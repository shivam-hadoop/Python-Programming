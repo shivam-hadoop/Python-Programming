{
 "cells": [
  {
   "cell_type": "markdown",
   "metadata": {},
   "source": [
    "# Importing RE Module"
   ]
  },
  {
   "cell_type": "code",
   "execution_count": 154,
   "metadata": {
    "scrolled": true
   },
   "outputs": [],
   "source": [
    "import re\n",
    "string = '''Hello my name is Shivam\n",
    "ha haha\n",
    "ABCDEFGHIJKLMNOPQRSTUVWXYS\n",
    "abcdefghijklmnopqrstuvwxyz\n",
    "053-897-6788\n",
    "907-735-5397\n",
    "900-868-7999\n",
    "800-467-7905\n",
    "MetaCharacters needs to be escaped\n",
    ". ! \\b \\d \\t \\n\n",
    "twitter.com'''"
   ]
  },
  {
   "cell_type": "markdown",
   "metadata": {},
   "source": [
    "# Finding Shivam in String"
   ]
  },
  {
   "cell_type": "code",
   "execution_count": 126,
   "metadata": {},
   "outputs": [
    {
     "name": "stdout",
     "output_type": "stream",
     "text": [
      "<re.Match object; span=(17, 23), match='Shivam'>\n"
     ]
    }
   ],
   "source": [
    "pattern = re.compile(r'Shivam')\n",
    "matches = pattern.finditer(string)\n",
    "for ele in matches:\n",
    "    print(ele)"
   ]
  },
  {
   "cell_type": "markdown",
   "metadata": {},
   "source": [
    "# Finding escape characters like ."
   ]
  },
  {
   "cell_type": "code",
   "execution_count": 127,
   "metadata": {},
   "outputs": [
    {
     "name": "stdout",
     "output_type": "stream",
     "text": [
      "<re.Match object; span=(133, 134), match='.'>\n",
      "<re.Match object; span=(153, 154), match='.'>\n"
     ]
    }
   ],
   "source": [
    "pattern = re.compile('\\.')\n",
    "matches = pattern.finditer(string)\n",
    "for ele in matches:\n",
    "    print(ele)"
   ]
  },
  {
   "cell_type": "markdown",
   "metadata": {},
   "source": [
    "# Searching for twitter.com"
   ]
  },
  {
   "cell_type": "code",
   "execution_count": 128,
   "metadata": {},
   "outputs": [
    {
     "name": "stdout",
     "output_type": "stream",
     "text": [
      "<re.Match object; span=(146, 157), match='twitter.com'>\n"
     ]
    }
   ],
   "source": [
    "pattern = re.compile('twitter\\.com')\n",
    "matches = pattern.finditer(string)\n",
    "for ele in matches:\n",
    "    print(ele)"
   ]
  },
  {
   "cell_type": "raw",
   "metadata": {},
   "source": [
    ".       - Any Character Except New Line\n",
    "\\d      - Digit (0-9)\n",
    "\\D      - Not a Digit (0-9)\n",
    "\\w      - Word Character (a-z, A-Z, 0-9, _)\n",
    "\\W      - Not a Word Character\n",
    "\\s      - Whitespace (space, tab, newline)\n",
    "\\S      - Not Whitespace (space, tab, newline)\n",
    "\n",
    "\\b      - Word Boundary\n",
    "\\B      - Not a Word Boundary\n",
    "^       - Beginning of a String\n",
    "$       - End of a String\n",
    "\n",
    "[]      - Matches Characters in brackets\n",
    "[^ ]    - Matches Characters NOT in brackets\n",
    "|       - Either Or\n",
    "( )     - Group\n",
    "\n",
    "Quantifiers:\n",
    "*       - 0 or More\n",
    "+       - 1 or More\n",
    "?       - 0 or One\n",
    "{3}     - Exact Number\n",
    "{3,4}   - Range of Numbers (Minimum, Maximum)\n",
    "\n",
    "\n",
    "#### Sample Regexs ####\n",
    "\n",
    "[a-zA-Z0-9_.+-]+@[a-zA-Z0-9-]+\\.[a-zA-Z0-9-.]+"
   ]
  },
  {
   "cell_type": "markdown",
   "metadata": {},
   "source": [
    "# Word Boundry of ha"
   ]
  },
  {
   "cell_type": "code",
   "execution_count": 134,
   "metadata": {},
   "outputs": [
    {
     "name": "stdout",
     "output_type": "stream",
     "text": [
      "<re.Match object; span=(24, 26), match='ha'>\n",
      "<re.Match object; span=(27, 29), match='ha'>\n"
     ]
    }
   ],
   "source": [
    "pattern = re.compile(r'\\bha')\n",
    "matches = pattern.finditer(string)\n",
    "for ele in matches:\n",
    "    print(ele)"
   ]
  },
  {
   "cell_type": "markdown",
   "metadata": {},
   "source": [
    "# Searching in Starting of a Sentence"
   ]
  },
  {
   "cell_type": "code",
   "execution_count": 139,
   "metadata": {},
   "outputs": [
    {
     "name": "stdout",
     "output_type": "stream",
     "text": [
      "<re.Match object; span=(0, 5), match='Start'>\n"
     ]
    }
   ],
   "source": [
    "sentence = \"Start a sentence and bring it to end\"\n",
    "pattern = re.compile(r'Start')\n",
    "matches = pattern.finditer(sentence)\n",
    "for ele in matches:\n",
    "    print(ele)"
   ]
  },
  {
   "cell_type": "markdown",
   "metadata": {},
   "source": [
    "# Searching in Ending of a Sentence"
   ]
  },
  {
   "cell_type": "code",
   "execution_count": 140,
   "metadata": {},
   "outputs": [
    {
     "name": "stdout",
     "output_type": "stream",
     "text": [
      "<re.Match object; span=(33, 36), match='end'>\n"
     ]
    }
   ],
   "source": [
    "pattern = re.compile('end$')\n",
    "matches = pattern.finditer(sentence)\n",
    "for ele in matches:\n",
    "    print(ele)"
   ]
  },
  {
   "cell_type": "markdown",
   "metadata": {},
   "source": [
    "# Searching for Mobile Number"
   ]
  },
  {
   "cell_type": "code",
   "execution_count": 144,
   "metadata": {},
   "outputs": [
    {
     "name": "stdout",
     "output_type": "stream",
     "text": [
      "<re.Match object; span=(86, 98), match='053-897-6788'>\n",
      "<re.Match object; span=(99, 111), match='907-735-5397'>\n"
     ]
    }
   ],
   "source": [
    "pattern = re.compile(r'\\d\\d\\d.\\d\\d\\d.\\d\\d\\d\\d')       \n",
    "matches = pattern.finditer(string)\n",
    "for ele in matches:\n",
    "    print(ele)"
   ]
  },
  {
   "cell_type": "code",
   "execution_count": 146,
   "metadata": {},
   "outputs": [
    {
     "name": "stdout",
     "output_type": "stream",
     "text": [
      "<re.Match object; span=(86, 98), match='053-897-6788'>\n",
      "<re.Match object; span=(99, 111), match='907-735-5397'>\n"
     ]
    }
   ],
   "source": [
    "pattern = re.compile(r'\\d\\d\\d[.-]\\d\\d\\d[.-]\\d\\d\\d\\d')      \n",
    "matches = pattern.finditer(string)\n",
    "for ele in matches:\n",
    "    print(ele)"
   ]
  },
  {
   "cell_type": "markdown",
   "metadata": {},
   "source": [
    "# Match only Phone Numbers Starting with 800 and 900"
   ]
  },
  {
   "cell_type": "code",
   "execution_count": 157,
   "metadata": {},
   "outputs": [
    {
     "name": "stdout",
     "output_type": "stream",
     "text": [
      "<re.Match object; span=(112, 124), match='900-868-7999'>\n",
      "<re.Match object; span=(125, 137), match='800-467-7905'>\n"
     ]
    }
   ],
   "source": [
    "pattern = re.compile(r'[89]00[.-]\\d\\d\\d[-.]\\d\\d\\d\\d')\n",
    "matches = pattern.finditer(string)\n",
    "for ele in matches:\n",
    "    print(ele)"
   ]
  }
 ],
 "metadata": {
  "kernelspec": {
   "display_name": "Python 3",
   "language": "python",
   "name": "python3"
  },
  "language_info": {
   "codemirror_mode": {
    "name": "ipython",
    "version": 3
   },
   "file_extension": ".py",
   "mimetype": "text/x-python",
   "name": "python",
   "nbconvert_exporter": "python",
   "pygments_lexer": "ipython3",
   "version": "3.9.0"
  }
 },
 "nbformat": 4,
 "nbformat_minor": 4
}
